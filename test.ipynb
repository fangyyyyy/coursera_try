{
 "cells": [
  {
   "cell_type": "markdown",
   "id": "fefedb80",
   "metadata": {},
   "source": [
    "# My Jupyter Notebook on IBM Watson Studio"
   ]
  },
  {
   "cell_type": "markdown",
   "id": "a6b126a5",
   "metadata": {},
   "source": [
    "**Zhang Fangyuan**\n",
    "student in NTU"
   ]
  },
  {
   "cell_type": "markdown",
   "id": "1189bfc5",
   "metadata": {},
   "source": [
    "*I am interested in data science because I had ever tapped into the massive value and vast amounts of information contained by data science. It is really fanscinating.*"
   ]
  },
  {
   "cell_type": "markdown",
   "id": "276d42ff",
   "metadata": {},
   "source": [
    "### The code can print a sentence on the screen."
   ]
  },
  {
   "cell_type": "code",
   "execution_count": 1,
   "id": "e5c3c67f",
   "metadata": {},
   "outputs": [
    {
     "name": "stdout",
     "output_type": "stream",
     "text": [
      "Hello World\n"
     ]
    }
   ],
   "source": [
    "print(\"Hello World\")"
   ]
  },
  {
   "cell_type": "markdown",
   "id": "c55c8643",
   "metadata": {},
   "source": [
    "| title | content | explain |\n",
    "| ---- | ---- | ---- |\n",
    "| word | word | word |\n",
    "| one | two | three |\n",
    "| 1 | 2 | 3 |\n",
    "\n",
    "<div style=\"text-align: right\"> this is right right right </div>\n",
    "\n",
    "~~delete~~ this sentence.\n",
    "\n",
    "+ first\n",
    "- second\n",
    "- third\n",
    "- forth\n",
    "\n",
    "hyperlinks:[www.ibm.com](www.ibm.com)"
   ]
  },
  {
   "cell_type": "code",
   "execution_count": null,
   "id": "c1a6d440",
   "metadata": {},
   "outputs": [],
   "source": []
  },
  {
   "cell_type": "code",
   "execution_count": null,
   "id": "37161f68",
   "metadata": {},
   "outputs": [],
   "source": []
  }
 ],
 "metadata": {
  "kernelspec": {
   "display_name": "Python 3",
   "language": "python",
   "name": "python3"
  },
  "language_info": {
   "codemirror_mode": {
    "name": "ipython",
    "version": 3
   },
   "file_extension": ".py",
   "mimetype": "text/x-python",
   "name": "python",
   "nbconvert_exporter": "python",
   "pygments_lexer": "ipython3",
   "version": "3.8.8"
  }
 },
 "nbformat": 4,
 "nbformat_minor": 5
}
